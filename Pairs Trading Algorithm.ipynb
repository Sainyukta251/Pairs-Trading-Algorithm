{
 "cells": [
  {
   "cell_type": "code",
   "execution_count": 44,
   "id": "45e70386",
   "metadata": {},
   "outputs": [],
   "source": [
    "import numpy as np\n",
    "import pandas as pd\n",
    "\n",
    "import statsmodels.api as sm\n",
    "from statsmodels.tsa.stattools import coint\n",
    "from statsmodels.regression.rolling import RollingOLS\n",
    "\n",
    "import yfinance as yf\n",
    "import seaborn\n",
    "import matplotlib.pyplot as plt"
   ]
  },
  {
   "cell_type": "code",
   "execution_count": 63,
   "id": "52228961",
   "metadata": {},
   "outputs": [
    {
     "name": "stdout",
     "output_type": "stream",
     "text": [
      "[*********************100%***********************]  9 of 9 completed\n"
     ]
    }
   ],
   "source": [
    "symbol_list = ['RELIANCE.NS','MGL.NS','ATGL.NS','BPCL.NS','HINDPETRO.NS','PETRONET.NS','CASTROLIND.NS','IOC.NS','GAIL.NS']\n",
    "data = yf.download(\n",
    "    symbol_list, \n",
    "    start='2023-01-05', \n",
    "    end='2024-01-05'\n",
    ")['Close']"
   ]
  },
  {
   "cell_type": "code",
   "execution_count": 64,
   "id": "648b1ad7",
   "metadata": {},
   "outputs": [
    {
     "data": {
      "text/plain": [
       "246"
      ]
     },
     "execution_count": 64,
     "metadata": {},
     "output_type": "execute_result"
    }
   ],
   "source": [
    "total=len(data)\n",
    "total"
   ]
  },
  {
   "cell_type": "code",
   "execution_count": 65,
   "id": "ec705d8b",
   "metadata": {},
   "outputs": [
    {
     "data": {
      "text/html": [
       "<div>\n",
       "<style scoped>\n",
       "    .dataframe tbody tr th:only-of-type {\n",
       "        vertical-align: middle;\n",
       "    }\n",
       "\n",
       "    .dataframe tbody tr th {\n",
       "        vertical-align: top;\n",
       "    }\n",
       "\n",
       "    .dataframe thead th {\n",
       "        text-align: right;\n",
       "    }\n",
       "</style>\n",
       "<table border=\"1\" class=\"dataframe\">\n",
       "  <thead>\n",
       "    <tr style=\"text-align: right;\">\n",
       "      <th></th>\n",
       "      <th>ATGL.NS</th>\n",
       "      <th>BPCL.NS</th>\n",
       "      <th>CASTROLIND.NS</th>\n",
       "      <th>GAIL.NS</th>\n",
       "      <th>HINDPETRO.NS</th>\n",
       "      <th>IOC.NS</th>\n",
       "      <th>MGL.NS</th>\n",
       "      <th>PETRONET.NS</th>\n",
       "      <th>RELIANCE.NS</th>\n",
       "    </tr>\n",
       "    <tr>\n",
       "      <th>Date</th>\n",
       "      <th></th>\n",
       "      <th></th>\n",
       "      <th></th>\n",
       "      <th></th>\n",
       "      <th></th>\n",
       "      <th></th>\n",
       "      <th></th>\n",
       "      <th></th>\n",
       "      <th></th>\n",
       "    </tr>\n",
       "  </thead>\n",
       "  <tbody>\n",
       "    <tr>\n",
       "      <th>2023-01-05</th>\n",
       "      <td>3633.699951</td>\n",
       "      <td>342.350006</td>\n",
       "      <td>128.000000</td>\n",
       "      <td>97.349998</td>\n",
       "      <td>245.949997</td>\n",
       "      <td>79.099998</td>\n",
       "      <td>867.349976</td>\n",
       "      <td>220.500000</td>\n",
       "      <td>2514.050049</td>\n",
       "    </tr>\n",
       "    <tr>\n",
       "      <th>2023-01-06</th>\n",
       "      <td>3555.399902</td>\n",
       "      <td>344.700012</td>\n",
       "      <td>125.599998</td>\n",
       "      <td>97.250000</td>\n",
       "      <td>249.899994</td>\n",
       "      <td>80.050003</td>\n",
       "      <td>859.549988</td>\n",
       "      <td>217.899994</td>\n",
       "      <td>2536.899902</td>\n",
       "    </tr>\n",
       "    <tr>\n",
       "      <th>2023-01-09</th>\n",
       "      <td>3629.000000</td>\n",
       "      <td>346.750000</td>\n",
       "      <td>124.099998</td>\n",
       "      <td>98.449997</td>\n",
       "      <td>245.149994</td>\n",
       "      <td>80.099998</td>\n",
       "      <td>869.400024</td>\n",
       "      <td>219.300003</td>\n",
       "      <td>2596.800049</td>\n",
       "    </tr>\n",
       "    <tr>\n",
       "      <th>2023-01-10</th>\n",
       "      <td>3656.399902</td>\n",
       "      <td>347.350006</td>\n",
       "      <td>125.849998</td>\n",
       "      <td>98.099998</td>\n",
       "      <td>249.199997</td>\n",
       "      <td>80.599998</td>\n",
       "      <td>868.049988</td>\n",
       "      <td>219.850006</td>\n",
       "      <td>2558.399902</td>\n",
       "    </tr>\n",
       "    <tr>\n",
       "      <th>2023-01-11</th>\n",
       "      <td>3616.500000</td>\n",
       "      <td>352.500000</td>\n",
       "      <td>125.449997</td>\n",
       "      <td>97.300003</td>\n",
       "      <td>256.450012</td>\n",
       "      <td>83.550003</td>\n",
       "      <td>867.400024</td>\n",
       "      <td>220.500000</td>\n",
       "      <td>2526.149902</td>\n",
       "    </tr>\n",
       "  </tbody>\n",
       "</table>\n",
       "</div>"
      ],
      "text/plain": [
       "                ATGL.NS     BPCL.NS  CASTROLIND.NS    GAIL.NS  HINDPETRO.NS  \\\n",
       "Date                                                                          \n",
       "2023-01-05  3633.699951  342.350006     128.000000  97.349998    245.949997   \n",
       "2023-01-06  3555.399902  344.700012     125.599998  97.250000    249.899994   \n",
       "2023-01-09  3629.000000  346.750000     124.099998  98.449997    245.149994   \n",
       "2023-01-10  3656.399902  347.350006     125.849998  98.099998    249.199997   \n",
       "2023-01-11  3616.500000  352.500000     125.449997  97.300003    256.450012   \n",
       "\n",
       "               IOC.NS      MGL.NS  PETRONET.NS  RELIANCE.NS  \n",
       "Date                                                         \n",
       "2023-01-05  79.099998  867.349976   220.500000  2514.050049  \n",
       "2023-01-06  80.050003  859.549988   217.899994  2536.899902  \n",
       "2023-01-09  80.099998  869.400024   219.300003  2596.800049  \n",
       "2023-01-10  80.599998  868.049988   219.850006  2558.399902  \n",
       "2023-01-11  83.550003  867.400024   220.500000  2526.149902  "
      ]
     },
     "execution_count": 65,
     "metadata": {},
     "output_type": "execute_result"
    }
   ],
   "source": [
    "data.head()"
   ]
  },
  {
   "cell_type": "code",
   "execution_count": 66,
   "id": "2ff27532",
   "metadata": {},
   "outputs": [
    {
     "data": {
      "text/html": [
       "<div>\n",
       "<style scoped>\n",
       "    .dataframe tbody tr th:only-of-type {\n",
       "        vertical-align: middle;\n",
       "    }\n",
       "\n",
       "    .dataframe tbody tr th {\n",
       "        vertical-align: top;\n",
       "    }\n",
       "\n",
       "    .dataframe thead th {\n",
       "        text-align: right;\n",
       "    }\n",
       "</style>\n",
       "<table border=\"1\" class=\"dataframe\">\n",
       "  <thead>\n",
       "    <tr style=\"text-align: right;\">\n",
       "      <th></th>\n",
       "      <th>ATGL.NS</th>\n",
       "      <th>BPCL.NS</th>\n",
       "      <th>CASTROLIND.NS</th>\n",
       "      <th>GAIL.NS</th>\n",
       "      <th>HINDPETRO.NS</th>\n",
       "      <th>IOC.NS</th>\n",
       "      <th>MGL.NS</th>\n",
       "      <th>PETRONET.NS</th>\n",
       "      <th>RELIANCE.NS</th>\n",
       "    </tr>\n",
       "    <tr>\n",
       "      <th>Date</th>\n",
       "      <th></th>\n",
       "      <th></th>\n",
       "      <th></th>\n",
       "      <th></th>\n",
       "      <th></th>\n",
       "      <th></th>\n",
       "      <th></th>\n",
       "      <th></th>\n",
       "      <th></th>\n",
       "    </tr>\n",
       "  </thead>\n",
       "  <tbody>\n",
       "    <tr>\n",
       "      <th>2023-12-29</th>\n",
       "      <td>987.950012</td>\n",
       "      <td>450.649994</td>\n",
       "      <td>179.750000</td>\n",
       "      <td>162.100006</td>\n",
       "      <td>398.899994</td>\n",
       "      <td>129.850006</td>\n",
       "      <td>1200.500000</td>\n",
       "      <td>222.649994</td>\n",
       "      <td>2584.949951</td>\n",
       "    </tr>\n",
       "    <tr>\n",
       "      <th>2024-01-01</th>\n",
       "      <td>1000.950012</td>\n",
       "      <td>452.049988</td>\n",
       "      <td>191.699997</td>\n",
       "      <td>166.199997</td>\n",
       "      <td>399.600006</td>\n",
       "      <td>130.300003</td>\n",
       "      <td>1203.650024</td>\n",
       "      <td>225.600006</td>\n",
       "      <td>2590.250000</td>\n",
       "    </tr>\n",
       "    <tr>\n",
       "      <th>2024-01-02</th>\n",
       "      <td>1000.900024</td>\n",
       "      <td>456.250000</td>\n",
       "      <td>189.000000</td>\n",
       "      <td>164.050003</td>\n",
       "      <td>408.700012</td>\n",
       "      <td>130.550003</td>\n",
       "      <td>1215.900024</td>\n",
       "      <td>226.649994</td>\n",
       "      <td>2611.699951</td>\n",
       "    </tr>\n",
       "    <tr>\n",
       "      <th>2024-01-03</th>\n",
       "      <td>1099.300049</td>\n",
       "      <td>461.049988</td>\n",
       "      <td>189.300003</td>\n",
       "      <td>162.149994</td>\n",
       "      <td>421.799988</td>\n",
       "      <td>132.699997</td>\n",
       "      <td>1222.000000</td>\n",
       "      <td>228.300003</td>\n",
       "      <td>2583.300049</td>\n",
       "    </tr>\n",
       "    <tr>\n",
       "      <th>2024-01-04</th>\n",
       "      <td>1115.099976</td>\n",
       "      <td>452.649994</td>\n",
       "      <td>193.250000</td>\n",
       "      <td>163.149994</td>\n",
       "      <td>415.399994</td>\n",
       "      <td>131.199997</td>\n",
       "      <td>1228.300049</td>\n",
       "      <td>232.050003</td>\n",
       "      <td>2596.649902</td>\n",
       "    </tr>\n",
       "  </tbody>\n",
       "</table>\n",
       "</div>"
      ],
      "text/plain": [
       "                ATGL.NS     BPCL.NS  CASTROLIND.NS     GAIL.NS  HINDPETRO.NS  \\\n",
       "Date                                                                           \n",
       "2023-12-29   987.950012  450.649994     179.750000  162.100006    398.899994   \n",
       "2024-01-01  1000.950012  452.049988     191.699997  166.199997    399.600006   \n",
       "2024-01-02  1000.900024  456.250000     189.000000  164.050003    408.700012   \n",
       "2024-01-03  1099.300049  461.049988     189.300003  162.149994    421.799988   \n",
       "2024-01-04  1115.099976  452.649994     193.250000  163.149994    415.399994   \n",
       "\n",
       "                IOC.NS       MGL.NS  PETRONET.NS  RELIANCE.NS  \n",
       "Date                                                           \n",
       "2023-12-29  129.850006  1200.500000   222.649994  2584.949951  \n",
       "2024-01-01  130.300003  1203.650024   225.600006  2590.250000  \n",
       "2024-01-02  130.550003  1215.900024   226.649994  2611.699951  \n",
       "2024-01-03  132.699997  1222.000000   228.300003  2583.300049  \n",
       "2024-01-04  131.199997  1228.300049   232.050003  2596.649902  "
      ]
     },
     "execution_count": 66,
     "metadata": {},
     "output_type": "execute_result"
    }
   ],
   "source": [
    "data.tail()"
   ]
  },
  {
   "cell_type": "code",
   "execution_count": 67,
   "id": "630d39b9",
   "metadata": {},
   "outputs": [
    {
     "name": "stdout",
     "output_type": "stream",
     "text": [
      "0\n"
     ]
    }
   ],
   "source": [
    "#to find the number of missingg vaLUES\n",
    "num_missing_values = data.isnull().sum().sum()\n",
    "print(num_missing_values)"
   ]
  },
  {
   "cell_type": "code",
   "execution_count": 68,
   "id": "bdddf25e",
   "metadata": {},
   "outputs": [
    {
     "name": "stdout",
     "output_type": "stream",
     "text": [
      "DatetimeIndex([], dtype='datetime64[ns]', name='Date', freq=None)\n"
     ]
    }
   ],
   "source": [
    "# to check the dates having missing values ( in case if any)\n",
    "dates_with_missing_values = data[data.isnull().any(axis=1)].index\n",
    "print(dates_with_missing_values)"
   ]
  },
  {
   "cell_type": "code",
   "execution_count": 69,
   "id": "5a7a277c",
   "metadata": {},
   "outputs": [
    {
     "name": "stdout",
     "output_type": "stream",
     "text": [
      "            ATGL.NS     BPCL.NS  CASTROLIND.NS     GAIL.NS  HINDPETRO.NS  \\\n",
      "Date                                                                       \n",
      "2023-06-28    641.5  360.350006     121.599998  104.300003         267.0   \n",
      "\n",
      "               IOC.NS       MGL.NS  PETRONET.NS  RELIANCE.NS  \n",
      "Date                                                          \n",
      "2023-06-28  89.349998  1045.650024   220.100006  2496.449951  \n"
     ]
    }
   ],
   "source": [
    "#accessing the specific values in the dataset by the date(26th january checking for holiday)\n",
    "data.index = pd.to_datetime(data.index)\n",
    "\n",
    "specific_date = '2023-06-28'\n",
    "data_specific_date = data[data.index == specific_date]\n",
    "print(data_specific_date)"
   ]
  },
  {
   "cell_type": "code",
   "execution_count": 70,
   "id": "c9276fe8",
   "metadata": {},
   "outputs": [],
   "source": [
    "#filling the missing value with the mean of preceeding and suceeding one\n",
    "data = data.fillna((data.ffill() + data.bfill()) / 2)"
   ]
  },
  {
   "cell_type": "code",
   "execution_count": 71,
   "id": "78736f51",
   "metadata": {},
   "outputs": [
    {
     "name": "stdout",
     "output_type": "stream",
     "text": [
      "0\n"
     ]
    }
   ],
   "source": [
    "#to find the number of missingg vaLUES\n",
    "num_missing_values = data.isnull().sum().sum()\n",
    "print(num_missing_values)"
   ]
  },
  {
   "cell_type": "code",
   "execution_count": 72,
   "id": "668c0d47",
   "metadata": {},
   "outputs": [
    {
     "name": "stdout",
     "output_type": "stream",
     "text": [
      "The cointegrated pair with the lowest p-value is: ATGL.NS and HINDPETRO.NS, p-value: 0.0007649906353749514\n"
     ]
    }
   ],
   "source": [
    "#Finding cointegrated pairs\n",
    "cointegrated_pairs = []\n",
    "\n",
    "for i in range(len(symbol_list)):\n",
    "    for j in range(i + 1, len(symbol_list)):\n",
    "        stock1 = data[symbol_list[i]]\n",
    "        stock2 = data[symbol_list[j]]\n",
    "        result =  sm.tsa.coint(stock1, stock2)#cointegration test\n",
    "        p_value = result[1] #p less than 0.05 are considered to be cointegrated\n",
    "        \n",
    "        if p_value < 0.05:  # Adjust the significance level as needed\n",
    "            cointegrated_pairs.append((symbol_list[i], symbol_list[j], p_value))\n",
    "# Step 2: Sort the cointegrated pairs by the p-value (ascending order)\n",
    "cointegrated_pairs.sort(key=lambda x: x[2])\n",
    "\n",
    "# Step 3: Print the single pair with the lowest p-value\n",
    "if cointegrated_pairs:\n",
    "    lowest_pvalue_pair = cointegrated_pairs[0]\n",
    "    stock1, stock2, p_value = lowest_pvalue_pair\n",
    "    print(f\"The cointegrated pair with the lowest p-value is: {stock1} and {stock2}, p-value: {p_value}\")\n",
    "else:\n",
    "    print(\"No cointegrated pairs found.\")"
   ]
  },
  {
   "cell_type": "code",
   "execution_count": 74,
   "id": "54179ba5",
   "metadata": {},
   "outputs": [
    {
     "name": "stdout",
     "output_type": "stream",
     "text": [
      "[*********************100%***********************]  2 of 2 completed\n"
     ]
    },
    {
     "data": {
      "image/png": "[encoded data removed]",
      "text/plain": [
       "<Figure size 720x432 with 1 Axes>"
      ]
     },
     "metadata": {
      "needs_background": "light"
     },
     "output_type": "display_data"
    }
   ],
   "source": [
    "import pandas as pd\n",
    "import yfinance as yf\n",
    "import matplotlib.pyplot as plt\n",
    "\n",
    "# Define the list of symbols\n",
    "symbol_list = ['ATGL.NS', 'HINDPETRO.NS']\n",
    "\n",
    "# Download the data\n",
    "data = yf.download(symbol_list, start='2023-01-05', end='2024-01-05')['Close']\n",
    "\n",
    "# Plot the graph\n",
    "plt.figure(figsize=(10, 6))\n",
    "for symbol in symbol_list:\n",
    "    plt.plot(data.index, data[symbol], label=symbol)\n",
    "\n",
    "plt.xlabel('Date')\n",
    "plt.ylabel('Closing Price')\n",
    "plt.title('Closing Prices of Two Stocks')\n",
    "plt.legend()\n",
    "plt.grid(True)\n",
    "plt.show()\n"
   ]
  },
  {
   "cell_type": "code",
   "execution_count": 75,
   "id": "38042b52",
   "metadata": {},
   "outputs": [
    {
     "data": {
      "image/png": "[encoded data removed]",
      "text/plain": [
       "<Figure size 720x432 with 1 Axes>"
      ]
     },
     "metadata": {
      "needs_background": "light"
     },
     "output_type": "display_data"
    }
   ],
   "source": [
    "import matplotlib.pyplot as plt\n",
    "\n",
    "# Select the pair for which you want to plot the spread\n",
    "pair = cointegrated_pairs[0]  # Select the first pair, you can change the index as needed\n",
    "\n",
    "spread = data[pair[0]] - data[pair[1]]\n",
    "# Plot the spread\n",
    "plt.figure(figsize=(10, 6))\n",
    "plt.plot(spread)\n",
    "plt.title(f\"Spread between {stock1} and {stock2}\")\n",
    "plt.xlabel(\"Time\")\n",
    "plt.ylabel(\"Spread\")\n",
    "plt.grid(True)\n",
    "plt.show()\n"
   ]
  },
  {
   "cell_type": "code",
   "execution_count": 76,
   "id": "494f970e",
   "metadata": {},
   "outputs": [
    {
     "name": "stdout",
     "output_type": "stream",
     "text": [
      "0.0010678856905779585\n",
      "Spread is Stationary\n"
     ]
    }
   ],
   "source": [
    "# Perform the ADF test\n",
    "from statsmodels.tsa.stattools import adfuller\n",
    "result = adfuller(spread)\n",
    "p_value = result[1]\n",
    "print(p_value)\n",
    "if p_value < 0.05:\n",
    "    print(\"Spread is Stationary\")\n",
    "else:\n",
    "    print(\"Spread is not stationary\")"
   ]
  },
  {
   "cell_type": "code",
   "execution_count": 77,
   "id": "09be8584",
   "metadata": {},
   "outputs": [
    {
     "name": "stdout",
     "output_type": "stream",
     "text": [
      "(-4.074259169862225, 0.0010678856905779585, 3, 242, {'1%': -3.457664132155201, '5%': -2.8735585105960224, '10%': -2.5731749894132916}, 2175.260745129707)\n",
      "The spread exhibits mean-reverting behavior\n"
     ]
    }
   ],
   "source": [
    "import statsmodels.api as sm\n",
    "from statsmodels.tsa.stattools import adfuller\n",
    "\n",
    "# Assuming you have already calculated the spread and stored it in a variable called 'spread'\n",
    "\n",
    "# Perform Augmented Dickey-Fuller (ADF) test\n",
    "result = adfuller(spread)\n",
    "print(result)\n",
    "adf_statistic = result[0]\n",
    "p_value = result[1]\n",
    "\n",
    "# Check for mean reversion\n",
    "if adf_statistic < result[4]['5%'] and p_value < 0.05:\n",
    "    print(\"The spread exhibits mean-reverting behavior\")\n",
    "else:\n",
    "    print(\"The spread does not exhibit mean-reverting behavior\")\n"
   ]
  },
  {
   "cell_type": "code",
   "execution_count": 78,
   "id": "7464c91c",
   "metadata": {},
   "outputs": [
    {
     "name": "stdout",
     "output_type": "stream",
     "text": [
      "Date\n",
      "2023-01-05    3.496441\n",
      "2023-01-06    3.389234\n",
      "2023-01-09    3.491357\n",
      "2023-01-10    3.521792\n",
      "2023-01-11    3.460336\n",
      "                ...   \n",
      "2023-12-29   -0.151461\n",
      "2024-01-01   -0.135428\n",
      "2024-01-02   -0.147355\n",
      "2024-01-03   -0.036172\n",
      "2024-01-04   -0.007236\n",
      "Length: 246, dtype: float64\n"
     ]
    }
   ],
   "source": [
    "# Step 1: Calculate Z-score\n",
    "z_score = (spread - spread.mean()) / spread.std()\n",
    "print(z_score)"
   ]
  },
  {
   "cell_type": "code",
   "execution_count": 82,
   "id": "a443cf54",
   "metadata": {},
   "outputs": [
    {
     "name": "stdout",
     "output_type": "stream",
     "text": [
      "Enter a entry threshold0.5\n",
      "Enter a exit threshold-0.5\n",
      "[-1. -1. -1. -1. -1. -1. -1. -1. -1. -1. -1. -1. -1. -1. -1. -1. -1. -1.\n",
      " -1. -1. -1. -1. -1. -1. -1.  0.  0.  0.  0.  0.  0.  0.  0.  0.  0.  0.\n",
      "  0.  0.  0.  0.  0.  0.  0.  0.  0.  0.  0.  0.  0.  0.  0.  0.  0.  0.\n",
      "  0.  0.  0.  0.  0.  0.  0.  0.  0.  0.  0.  0.  0.  0.  0.  0.  0.  0.\n",
      "  0.  0.  0.  0.  0.  0.  0.  0.  0.  0.  0.  0.  0.  0.  0.  0.  0.  0.\n",
      "  0.  0.  0.  0.  0.  0.  0.  0.  0.  0.  0.  0.  0.  0.  0.  0.  0.  0.\n",
      "  0.  0.  0.  0.  0.  0.  0.  0.  0.  0.  0.  0.  0.  0.  0.  0.  0.  0.\n",
      "  0.  0.  0.  0.  0.  0.  0.  0.  0.  0.  0.  0.  0.  0.  0.  0.  0.  0.\n",
      "  0.  0.  0.  0.  0.  0.  0.  0.  0.  0.  0.  0.  0.  0.  0.  0.  0.  0.\n",
      "  0.  0.  0.  0.  0.  0.  0.  0.  0.  0.  0.  0.  0.  0.  0.  0.  0.  0.\n",
      "  0.  0.  0.  0.  0.  0.  0.  0.  0.  0.  0.  0.  0.  0.  0.  0.  0.  1.\n",
      "  1.  1.  1.  1.  1.  1.  1.  1.  1.  1.  1.  1.  1.  1.  1.  1.  1.  1.\n",
      "  1.  1.  1.  1.  0.  0.  0.  0.  0.  0.  0.  0.  0.  0.  0.  0.  0.  0.\n",
      "  0.  0.  0.  0.  0.  0.  0.  0.  0.  0.  0.  0.]\n",
      "No trading signal\n"
     ]
    }
   ],
   "source": [
    "# Step 4: Determine entry and exit criteria\n",
    "entry_threshold = float(input(\"Enter a entry threshold\"))\n",
    "exit_threshold = float(input(\"Enter a exit threshold\"))\n",
    "\n",
    "# Step 5: Backtest the strategy\n",
    "signals = np.zeros_like(spread)\n",
    "signals[z_score > entry_threshold] = -1  # Sell signal\n",
    "signals[z_score < -entry_threshold] = 1  # Buy signal\n",
    "signals[np.abs(z_score) < exit_threshold] = 0  # Exit signal\n",
    "print(signals)\n",
    "\n",
    "positions = np.zeros_like(spread)\n",
    "positions[0] = signals[0]  # Initial position\n",
    "for i in range(1, len(signals)):\n",
    "    positions[i] = positions[i-1]  # Maintain previous position if no signal\n",
    "    if signals[i] == -1:  # Sell signal\n",
    "        positions[i] = -1\n",
    "    elif signals[i] == 1:  # Buy signal\n",
    "        positions[i] = 1\n",
    "\n",
    "trades = positions - np.roll(positions, 1)\n",
    "trades[0] = positions[0]  # First trade is the initial position\n",
    "\n",
    "\n",
    "# Step 6: Execute real-time trading (example with today's data)\n",
    "current_spread = data[pair[0]].iloc[-1] - data[pair[1]].iloc[-1]\n",
    "current_z_score = (current_spread - np.mean(spread)) / np.std(spread)\n",
    "\n",
    "if current_z_score > entry_threshold:\n",
    "    print(\"Sell\", pair[0], \"and Buy\", pair[1] ,end='')\n",
    "elif current_z_score < exit_threshold:\n",
    "    print(\"Buy\", pair[0], \"and Sell\", pair[1])\n",
    "else:\n",
    "    print(\"No trading signal\")\n",
    "\n",
    "# Step 7: Monitor and evaluate the algorithm's performance\n",
    "# Continuously review, analyze, and improve the strategy\n"
   ]
  },
  {
   "cell_type": "code",
   "execution_count": 83,
   "id": "cdc0d24a",
   "metadata": {},
   "outputs": [
    {
     "data": {
      "image/png": "[encoded data removed]",
      "text/plain": [
       "<Figure size 720x432 with 1 Axes>"
      ]
     },
     "metadata": {
      "needs_background": "light"
     },
     "output_type": "display_data"
    }
   ],
   "source": [
    "import matplotlib.pyplot as plt\n",
    "\n",
    "# Assuming you have already calculated the Z-score and stored it in a variable called 'z_score'\n",
    "\n",
    "# Plot the Z-score\n",
    "plt.figure(figsize=(10, 6))\n",
    "plt.plot(z_score.index, z_score, color='blue')\n",
    "plt.axhline(0, color='gray', linestyle='--')\n",
    "plt.axhline(entry_threshold, color='red', linestyle='--')\n",
    "plt.axhline(exit_threshold, color='green', linestyle='--')\n",
    "plt.title('Z-Score')\n",
    "plt.xlabel('Date')\n",
    "plt.ylabel('Z-Score')\n",
    "plt.grid(True)\n",
    "plt.show()\n"
   ]
  },
  {
   "cell_type": "code",
   "execution_count": 84,
   "id": "3b241a0f",
   "metadata": {},
   "outputs": [
    {
     "name": "stdout",
     "output_type": "stream",
     "text": [
      "NO trading Siganls\n"
     ]
    }
   ],
   "source": [
    "if current_z_score>entry_threshold:\n",
    "    buy_price=data[pair[1]].iloc[-1]\n",
    "    sell_price=data[pair[0]].iloc[-1]\n",
    "    print(\"sell\",pair[0],sell_price,\"\\n\"\n",
    "         \"buy\",pair[1],buy_price)\n",
    "    \n",
    "elif current_z_score < exit_threshold:\n",
    "    buy_price = data[pair[0]].iloc[-1]\n",
    "    sell_price = data[pair[1]].iloc[-1]\n",
    "    print(\"buy\",pair[0],buy_price,\"\\n\"\n",
    "          \"sell\",pair[1],sell_price)\n",
    "else:\n",
    "    print(\"NO trading Siganls\")"
   ]
  },
  {
   "cell_type": "markdown",
   "id": "3e46e7e1",
   "metadata": {},
   "source": [
    "Exit the trade when z-score reaches to the mean\n",
    "Entering the trade: Traders decide to enter the trade by either buying a stock or selling a stock..\n",
    "    Existing the trade : If in long position traders exit the trade by selling the stock,\n",
    "        For a short position, traders exit by buying back the asset."
   ]
  },
  {
   "cell_type": "code",
   "execution_count": null,
   "id": "7baec02c",
   "metadata": {},
   "outputs": [],
   "source": []
  }
 ],
 "metadata": {
  "kernelspec": {
   "display_name": "Python 3 (ipykernel)",
   "language": "python",
   "name": "python3"
  },
  "language_info": {
   "codemirror_mode": {
    "name": "ipython",
    "version": 3
   },
   "file_extension": ".py",
   "mimetype": "text/x-python",
   "name": "python",
   "nbconvert_exporter": "python",
   "pygments_lexer": "ipython3",
   "version": "3.10.5"
  }
 },
 "nbformat": 4,
 "nbformat_minor": 5
}
